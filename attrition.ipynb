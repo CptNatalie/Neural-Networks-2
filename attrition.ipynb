{
  "cells": [
    {
      "cell_type": "markdown",
      "metadata": {
        "id": "view-in-github",
        "colab_type": "text"
      },
      "source": [
        "<a href=\"https://colab.research.google.com/github/CptNatalie/neural-network-challenge-2/blob/main/attrition.ipynb\" target=\"_parent\"><img src=\"https://colab.research.google.com/assets/colab-badge.svg\" alt=\"Open In Colab\"/></a>"
      ]
    },
    {
      "cell_type": "markdown",
      "metadata": {
        "id": "alIIEHibGc3M"
      },
      "source": [
        "## Part 1: Preprocessing"
      ]
    },
    {
      "cell_type": "code",
      "execution_count": null,
      "metadata": {
        "colab": {
          "base_uri": "https://localhost:8080/",
          "height": 324
        },
        "id": "6eDUJ4NtGc3P",
        "outputId": "7c84e54d-4581-4e31-8245-67cae3c312c8"
      },
      "outputs": [
        {
          "output_type": "execute_result",
          "data": {
            "text/plain": [
              "   Age Attrition     BusinessTravel              Department  DistanceFromHome  \\\n",
              "0   41       Yes      Travel_Rarely                   Sales                 1   \n",
              "1   49        No  Travel_Frequently  Research & Development                 8   \n",
              "2   37       Yes      Travel_Rarely  Research & Development                 2   \n",
              "3   33        No  Travel_Frequently  Research & Development                 3   \n",
              "4   27        No      Travel_Rarely  Research & Development                 2   \n",
              "\n",
              "   Education EducationField  EnvironmentSatisfaction  HourlyRate  \\\n",
              "0          2  Life Sciences                        2          94   \n",
              "1          1  Life Sciences                        3          61   \n",
              "2          2          Other                        4          92   \n",
              "3          4  Life Sciences                        4          56   \n",
              "4          1        Medical                        1          40   \n",
              "\n",
              "   JobInvolvement  ...  PerformanceRating RelationshipSatisfaction  \\\n",
              "0               3  ...                  3                        1   \n",
              "1               2  ...                  4                        4   \n",
              "2               2  ...                  3                        2   \n",
              "3               3  ...                  3                        3   \n",
              "4               3  ...                  3                        4   \n",
              "\n",
              "   StockOptionLevel TotalWorkingYears  TrainingTimesLastYear WorkLifeBalance  \\\n",
              "0                 0                 8                      0               1   \n",
              "1                 1                10                      3               3   \n",
              "2                 0                 7                      3               3   \n",
              "3                 0                 8                      3               3   \n",
              "4                 1                 6                      3               3   \n",
              "\n",
              "   YearsAtCompany  YearsInCurrentRole  YearsSinceLastPromotion  \\\n",
              "0               6                   4                        0   \n",
              "1              10                   7                        1   \n",
              "2               0                   0                        0   \n",
              "3               8                   7                        3   \n",
              "4               2                   2                        2   \n",
              "\n",
              "   YearsWithCurrManager  \n",
              "0                     5  \n",
              "1                     7  \n",
              "2                     0  \n",
              "3                     0  \n",
              "4                     2  \n",
              "\n",
              "[5 rows x 27 columns]"
            ],
            "text/html": [
              "\n",
              "  <div id=\"df-9922da3d-ad84-4dc5-8005-fa8989993995\" class=\"colab-df-container\">\n",
              "    <div>\n",
              "<style scoped>\n",
              "    .dataframe tbody tr th:only-of-type {\n",
              "        vertical-align: middle;\n",
              "    }\n",
              "\n",
              "    .dataframe tbody tr th {\n",
              "        vertical-align: top;\n",
              "    }\n",
              "\n",
              "    .dataframe thead th {\n",
              "        text-align: right;\n",
              "    }\n",
              "</style>\n",
              "<table border=\"1\" class=\"dataframe\">\n",
              "  <thead>\n",
              "    <tr style=\"text-align: right;\">\n",
              "      <th></th>\n",
              "      <th>Age</th>\n",
              "      <th>Attrition</th>\n",
              "      <th>BusinessTravel</th>\n",
              "      <th>Department</th>\n",
              "      <th>DistanceFromHome</th>\n",
              "      <th>Education</th>\n",
              "      <th>EducationField</th>\n",
              "      <th>EnvironmentSatisfaction</th>\n",
              "      <th>HourlyRate</th>\n",
              "      <th>JobInvolvement</th>\n",
              "      <th>...</th>\n",
              "      <th>PerformanceRating</th>\n",
              "      <th>RelationshipSatisfaction</th>\n",
              "      <th>StockOptionLevel</th>\n",
              "      <th>TotalWorkingYears</th>\n",
              "      <th>TrainingTimesLastYear</th>\n",
              "      <th>WorkLifeBalance</th>\n",
              "      <th>YearsAtCompany</th>\n",
              "      <th>YearsInCurrentRole</th>\n",
              "      <th>YearsSinceLastPromotion</th>\n",
              "      <th>YearsWithCurrManager</th>\n",
              "    </tr>\n",
              "  </thead>\n",
              "  <tbody>\n",
              "    <tr>\n",
              "      <th>0</th>\n",
              "      <td>41</td>\n",
              "      <td>Yes</td>\n",
              "      <td>Travel_Rarely</td>\n",
              "      <td>Sales</td>\n",
              "      <td>1</td>\n",
              "      <td>2</td>\n",
              "      <td>Life Sciences</td>\n",
              "      <td>2</td>\n",
              "      <td>94</td>\n",
              "      <td>3</td>\n",
              "      <td>...</td>\n",
              "      <td>3</td>\n",
              "      <td>1</td>\n",
              "      <td>0</td>\n",
              "      <td>8</td>\n",
              "      <td>0</td>\n",
              "      <td>1</td>\n",
              "      <td>6</td>\n",
              "      <td>4</td>\n",
              "      <td>0</td>\n",
              "      <td>5</td>\n",
              "    </tr>\n",
              "    <tr>\n",
              "      <th>1</th>\n",
              "      <td>49</td>\n",
              "      <td>No</td>\n",
              "      <td>Travel_Frequently</td>\n",
              "      <td>Research &amp; Development</td>\n",
              "      <td>8</td>\n",
              "      <td>1</td>\n",
              "      <td>Life Sciences</td>\n",
              "      <td>3</td>\n",
              "      <td>61</td>\n",
              "      <td>2</td>\n",
              "      <td>...</td>\n",
              "      <td>4</td>\n",
              "      <td>4</td>\n",
              "      <td>1</td>\n",
              "      <td>10</td>\n",
              "      <td>3</td>\n",
              "      <td>3</td>\n",
              "      <td>10</td>\n",
              "      <td>7</td>\n",
              "      <td>1</td>\n",
              "      <td>7</td>\n",
              "    </tr>\n",
              "    <tr>\n",
              "      <th>2</th>\n",
              "      <td>37</td>\n",
              "      <td>Yes</td>\n",
              "      <td>Travel_Rarely</td>\n",
              "      <td>Research &amp; Development</td>\n",
              "      <td>2</td>\n",
              "      <td>2</td>\n",
              "      <td>Other</td>\n",
              "      <td>4</td>\n",
              "      <td>92</td>\n",
              "      <td>2</td>\n",
              "      <td>...</td>\n",
              "      <td>3</td>\n",
              "      <td>2</td>\n",
              "      <td>0</td>\n",
              "      <td>7</td>\n",
              "      <td>3</td>\n",
              "      <td>3</td>\n",
              "      <td>0</td>\n",
              "      <td>0</td>\n",
              "      <td>0</td>\n",
              "      <td>0</td>\n",
              "    </tr>\n",
              "    <tr>\n",
              "      <th>3</th>\n",
              "      <td>33</td>\n",
              "      <td>No</td>\n",
              "      <td>Travel_Frequently</td>\n",
              "      <td>Research &amp; Development</td>\n",
              "      <td>3</td>\n",
              "      <td>4</td>\n",
              "      <td>Life Sciences</td>\n",
              "      <td>4</td>\n",
              "      <td>56</td>\n",
              "      <td>3</td>\n",
              "      <td>...</td>\n",
              "      <td>3</td>\n",
              "      <td>3</td>\n",
              "      <td>0</td>\n",
              "      <td>8</td>\n",
              "      <td>3</td>\n",
              "      <td>3</td>\n",
              "      <td>8</td>\n",
              "      <td>7</td>\n",
              "      <td>3</td>\n",
              "      <td>0</td>\n",
              "    </tr>\n",
              "    <tr>\n",
              "      <th>4</th>\n",
              "      <td>27</td>\n",
              "      <td>No</td>\n",
              "      <td>Travel_Rarely</td>\n",
              "      <td>Research &amp; Development</td>\n",
              "      <td>2</td>\n",
              "      <td>1</td>\n",
              "      <td>Medical</td>\n",
              "      <td>1</td>\n",
              "      <td>40</td>\n",
              "      <td>3</td>\n",
              "      <td>...</td>\n",
              "      <td>3</td>\n",
              "      <td>4</td>\n",
              "      <td>1</td>\n",
              "      <td>6</td>\n",
              "      <td>3</td>\n",
              "      <td>3</td>\n",
              "      <td>2</td>\n",
              "      <td>2</td>\n",
              "      <td>2</td>\n",
              "      <td>2</td>\n",
              "    </tr>\n",
              "  </tbody>\n",
              "</table>\n",
              "<p>5 rows × 27 columns</p>\n",
              "</div>\n",
              "    <div class=\"colab-df-buttons\">\n",
              "\n",
              "  <div class=\"colab-df-container\">\n",
              "    <button class=\"colab-df-convert\" onclick=\"convertToInteractive('df-9922da3d-ad84-4dc5-8005-fa8989993995')\"\n",
              "            title=\"Convert this dataframe to an interactive table.\"\n",
              "            style=\"display:none;\">\n",
              "\n",
              "  <svg xmlns=\"http://www.w3.org/2000/svg\" height=\"24px\" viewBox=\"0 -960 960 960\">\n",
              "    <path d=\"M120-120v-720h720v720H120Zm60-500h600v-160H180v160Zm220 220h160v-160H400v160Zm0 220h160v-160H400v160ZM180-400h160v-160H180v160Zm440 0h160v-160H620v160ZM180-180h160v-160H180v160Zm440 0h160v-160H620v160Z\"/>\n",
              "  </svg>\n",
              "    </button>\n",
              "\n",
              "  <style>\n",
              "    .colab-df-container {\n",
              "      display:flex;\n",
              "      gap: 12px;\n",
              "    }\n",
              "\n",
              "    .colab-df-convert {\n",
              "      background-color: #E8F0FE;\n",
              "      border: none;\n",
              "      border-radius: 50%;\n",
              "      cursor: pointer;\n",
              "      display: none;\n",
              "      fill: #1967D2;\n",
              "      height: 32px;\n",
              "      padding: 0 0 0 0;\n",
              "      width: 32px;\n",
              "    }\n",
              "\n",
              "    .colab-df-convert:hover {\n",
              "      background-color: #E2EBFA;\n",
              "      box-shadow: 0px 1px 2px rgba(60, 64, 67, 0.3), 0px 1px 3px 1px rgba(60, 64, 67, 0.15);\n",
              "      fill: #174EA6;\n",
              "    }\n",
              "\n",
              "    .colab-df-buttons div {\n",
              "      margin-bottom: 4px;\n",
              "    }\n",
              "\n",
              "    [theme=dark] .colab-df-convert {\n",
              "      background-color: #3B4455;\n",
              "      fill: #D2E3FC;\n",
              "    }\n",
              "\n",
              "    [theme=dark] .colab-df-convert:hover {\n",
              "      background-color: #434B5C;\n",
              "      box-shadow: 0px 1px 3px 1px rgba(0, 0, 0, 0.15);\n",
              "      filter: drop-shadow(0px 1px 2px rgba(0, 0, 0, 0.3));\n",
              "      fill: #FFFFFF;\n",
              "    }\n",
              "  </style>\n",
              "\n",
              "    <script>\n",
              "      const buttonEl =\n",
              "        document.querySelector('#df-9922da3d-ad84-4dc5-8005-fa8989993995 button.colab-df-convert');\n",
              "      buttonEl.style.display =\n",
              "        google.colab.kernel.accessAllowed ? 'block' : 'none';\n",
              "\n",
              "      async function convertToInteractive(key) {\n",
              "        const element = document.querySelector('#df-9922da3d-ad84-4dc5-8005-fa8989993995');\n",
              "        const dataTable =\n",
              "          await google.colab.kernel.invokeFunction('convertToInteractive',\n",
              "                                                    [key], {});\n",
              "        if (!dataTable) return;\n",
              "\n",
              "        const docLinkHtml = 'Like what you see? Visit the ' +\n",
              "          '<a target=\"_blank\" href=https://colab.research.google.com/notebooks/data_table.ipynb>data table notebook</a>'\n",
              "          + ' to learn more about interactive tables.';\n",
              "        element.innerHTML = '';\n",
              "        dataTable['output_type'] = 'display_data';\n",
              "        await google.colab.output.renderOutput(dataTable, element);\n",
              "        const docLink = document.createElement('div');\n",
              "        docLink.innerHTML = docLinkHtml;\n",
              "        element.appendChild(docLink);\n",
              "      }\n",
              "    </script>\n",
              "  </div>\n",
              "\n",
              "\n",
              "<div id=\"df-a00b8d29-89ff-4b00-b55c-bb9554fe4311\">\n",
              "  <button class=\"colab-df-quickchart\" onclick=\"quickchart('df-a00b8d29-89ff-4b00-b55c-bb9554fe4311')\"\n",
              "            title=\"Suggest charts\"\n",
              "            style=\"display:none;\">\n",
              "\n",
              "<svg xmlns=\"http://www.w3.org/2000/svg\" height=\"24px\"viewBox=\"0 0 24 24\"\n",
              "     width=\"24px\">\n",
              "    <g>\n",
              "        <path d=\"M19 3H5c-1.1 0-2 .9-2 2v14c0 1.1.9 2 2 2h14c1.1 0 2-.9 2-2V5c0-1.1-.9-2-2-2zM9 17H7v-7h2v7zm4 0h-2V7h2v10zm4 0h-2v-4h2v4z\"/>\n",
              "    </g>\n",
              "</svg>\n",
              "  </button>\n",
              "\n",
              "<style>\n",
              "  .colab-df-quickchart {\n",
              "      --bg-color: #E8F0FE;\n",
              "      --fill-color: #1967D2;\n",
              "      --hover-bg-color: #E2EBFA;\n",
              "      --hover-fill-color: #174EA6;\n",
              "      --disabled-fill-color: #AAA;\n",
              "      --disabled-bg-color: #DDD;\n",
              "  }\n",
              "\n",
              "  [theme=dark] .colab-df-quickchart {\n",
              "      --bg-color: #3B4455;\n",
              "      --fill-color: #D2E3FC;\n",
              "      --hover-bg-color: #434B5C;\n",
              "      --hover-fill-color: #FFFFFF;\n",
              "      --disabled-bg-color: #3B4455;\n",
              "      --disabled-fill-color: #666;\n",
              "  }\n",
              "\n",
              "  .colab-df-quickchart {\n",
              "    background-color: var(--bg-color);\n",
              "    border: none;\n",
              "    border-radius: 50%;\n",
              "    cursor: pointer;\n",
              "    display: none;\n",
              "    fill: var(--fill-color);\n",
              "    height: 32px;\n",
              "    padding: 0;\n",
              "    width: 32px;\n",
              "  }\n",
              "\n",
              "  .colab-df-quickchart:hover {\n",
              "    background-color: var(--hover-bg-color);\n",
              "    box-shadow: 0 1px 2px rgba(60, 64, 67, 0.3), 0 1px 3px 1px rgba(60, 64, 67, 0.15);\n",
              "    fill: var(--button-hover-fill-color);\n",
              "  }\n",
              "\n",
              "  .colab-df-quickchart-complete:disabled,\n",
              "  .colab-df-quickchart-complete:disabled:hover {\n",
              "    background-color: var(--disabled-bg-color);\n",
              "    fill: var(--disabled-fill-color);\n",
              "    box-shadow: none;\n",
              "  }\n",
              "\n",
              "  .colab-df-spinner {\n",
              "    border: 2px solid var(--fill-color);\n",
              "    border-color: transparent;\n",
              "    border-bottom-color: var(--fill-color);\n",
              "    animation:\n",
              "      spin 1s steps(1) infinite;\n",
              "  }\n",
              "\n",
              "  @keyframes spin {\n",
              "    0% {\n",
              "      border-color: transparent;\n",
              "      border-bottom-color: var(--fill-color);\n",
              "      border-left-color: var(--fill-color);\n",
              "    }\n",
              "    20% {\n",
              "      border-color: transparent;\n",
              "      border-left-color: var(--fill-color);\n",
              "      border-top-color: var(--fill-color);\n",
              "    }\n",
              "    30% {\n",
              "      border-color: transparent;\n",
              "      border-left-color: var(--fill-color);\n",
              "      border-top-color: var(--fill-color);\n",
              "      border-right-color: var(--fill-color);\n",
              "    }\n",
              "    40% {\n",
              "      border-color: transparent;\n",
              "      border-right-color: var(--fill-color);\n",
              "      border-top-color: var(--fill-color);\n",
              "    }\n",
              "    60% {\n",
              "      border-color: transparent;\n",
              "      border-right-color: var(--fill-color);\n",
              "    }\n",
              "    80% {\n",
              "      border-color: transparent;\n",
              "      border-right-color: var(--fill-color);\n",
              "      border-bottom-color: var(--fill-color);\n",
              "    }\n",
              "    90% {\n",
              "      border-color: transparent;\n",
              "      border-bottom-color: var(--fill-color);\n",
              "    }\n",
              "  }\n",
              "</style>\n",
              "\n",
              "  <script>\n",
              "    async function quickchart(key) {\n",
              "      const quickchartButtonEl =\n",
              "        document.querySelector('#' + key + ' button');\n",
              "      quickchartButtonEl.disabled = true;  // To prevent multiple clicks.\n",
              "      quickchartButtonEl.classList.add('colab-df-spinner');\n",
              "      try {\n",
              "        const charts = await google.colab.kernel.invokeFunction(\n",
              "            'suggestCharts', [key], {});\n",
              "      } catch (error) {\n",
              "        console.error('Error during call to suggestCharts:', error);\n",
              "      }\n",
              "      quickchartButtonEl.classList.remove('colab-df-spinner');\n",
              "      quickchartButtonEl.classList.add('colab-df-quickchart-complete');\n",
              "    }\n",
              "    (() => {\n",
              "      let quickchartButtonEl =\n",
              "        document.querySelector('#df-a00b8d29-89ff-4b00-b55c-bb9554fe4311 button');\n",
              "      quickchartButtonEl.style.display =\n",
              "        google.colab.kernel.accessAllowed ? 'block' : 'none';\n",
              "    })();\n",
              "  </script>\n",
              "</div>\n",
              "\n",
              "    </div>\n",
              "  </div>\n"
            ],
            "application/vnd.google.colaboratory.intrinsic+json": {
              "type": "dataframe",
              "variable_name": "attrition_df"
            }
          },
          "metadata": {},
          "execution_count": 1
        }
      ],
      "source": [
        "# Import our dependencies\n",
        "from sklearn.model_selection import train_test_split\n",
        "from sklearn.preprocessing import StandardScaler\n",
        "import pandas as pd\n",
        "import numpy as np\n",
        "from tensorflow.keras.models import Model\n",
        "from tensorflow.keras import layers\n",
        "from sklearn.preprocessing import OneHotEncoder, OrdinalEncoder\n",
        "\n",
        "\n",
        "#  Import and read the attrition data\n",
        "attrition_df = pd.read_csv('https://static.bc-edx.com/ai/ail-v-1-0/m19/lms/datasets/attrition.csv')\n",
        "attrition_df.head()"
      ]
    },
    {
      "cell_type": "code",
      "execution_count": null,
      "metadata": {
        "colab": {
          "base_uri": "https://localhost:8080/"
        },
        "id": "g22aQSY4Gc3Q",
        "outputId": "07c82bbb-e127-44c5-87ce-1b3585fbd266"
      },
      "outputs": [
        {
          "output_type": "execute_result",
          "data": {
            "text/plain": [
              "Age                         43\n",
              "Attrition                    2\n",
              "BusinessTravel               3\n",
              "Department                   3\n",
              "DistanceFromHome            29\n",
              "Education                    5\n",
              "EducationField               6\n",
              "EnvironmentSatisfaction      4\n",
              "HourlyRate                  71\n",
              "JobInvolvement               4\n",
              "JobLevel                     5\n",
              "JobRole                      9\n",
              "JobSatisfaction              4\n",
              "MaritalStatus                3\n",
              "NumCompaniesWorked          10\n",
              "OverTime                     2\n",
              "PercentSalaryHike           15\n",
              "PerformanceRating            2\n",
              "RelationshipSatisfaction     4\n",
              "StockOptionLevel             4\n",
              "TotalWorkingYears           40\n",
              "TrainingTimesLastYear        7\n",
              "WorkLifeBalance              4\n",
              "YearsAtCompany              37\n",
              "YearsInCurrentRole          19\n",
              "YearsSinceLastPromotion     16\n",
              "YearsWithCurrManager        18\n",
              "dtype: int64"
            ]
          },
          "metadata": {},
          "execution_count": 2
        }
      ],
      "source": [
        "# Determine the number of unique values in each column.\n",
        "\n",
        "attrition_df.nunique()"
      ]
    },
    {
      "cell_type": "code",
      "execution_count": null,
      "metadata": {
        "id": "50vMgBEnJbfM"
      },
      "outputs": [],
      "source": [
        "# Create y_df with the Attrition and Department columns\n",
        "\n",
        "y_df = attrition_df[['Attrition', 'Department']]\n"
      ]
    },
    {
      "cell_type": "code",
      "execution_count": null,
      "metadata": {
        "colab": {
          "base_uri": "https://localhost:8080/"
        },
        "id": "Virka0zLGc3R",
        "outputId": "c5442384-dd86-4b50-9bfa-f9061e81a1b7"
      },
      "outputs": [
        {
          "output_type": "execute_result",
          "data": {
            "text/plain": [
              "Age                         int64\n",
              "BusinessTravel             object\n",
              "DistanceFromHome            int64\n",
              "Education                   int64\n",
              "EducationField             object\n",
              "EnvironmentSatisfaction     int64\n",
              "HourlyRate                  int64\n",
              "JobInvolvement              int64\n",
              "JobLevel                    int64\n",
              "JobSatisfaction             int64\n",
              "MaritalStatus              object\n",
              "NumCompaniesWorked          int64\n",
              "OverTime                   object\n",
              "PercentSalaryHike           int64\n",
              "PerformanceRating           int64\n",
              "StockOptionLevel            int64\n",
              "TotalWorkingYears           int64\n",
              "TrainingTimesLastYear       int64\n",
              "WorkLifeBalance             int64\n",
              "YearsAtCompany              int64\n",
              "YearsInCurrentRole          int64\n",
              "YearsSinceLastPromotion     int64\n",
              "YearsWithCurrManager        int64\n",
              "dtype: object"
            ]
          },
          "metadata": {},
          "execution_count": 4
        }
      ],
      "source": [
        "# Create a list of at least 10 column names to use as X data\n",
        "\n",
        "column_list = ['Age', 'BusinessTravel', 'DistanceFromHome', 'Education',\n",
        "       'EducationField', 'EnvironmentSatisfaction', 'HourlyRate',\n",
        "       'JobInvolvement', 'JobLevel', 'JobSatisfaction',\n",
        "       'MaritalStatus', 'NumCompaniesWorked', 'OverTime', 'PercentSalaryHike',\n",
        "       'PerformanceRating', 'StockOptionLevel',\n",
        "       'TotalWorkingYears', 'TrainingTimesLastYear', 'WorkLifeBalance',\n",
        "       'YearsAtCompany', 'YearsInCurrentRole', 'YearsSinceLastPromotion',\n",
        "       'YearsWithCurrManager']\n",
        "\n",
        "\n",
        "# Create X_df using your selected columns\n",
        "X_df = attrition_df[column_list]\n",
        "\n",
        "# Show the data types for X_df\n",
        "\n",
        "X_df.dtypes\n"
      ]
    },
    {
      "cell_type": "code",
      "execution_count": null,
      "metadata": {
        "id": "KaJfdOGUMHMR",
        "colab": {
          "base_uri": "https://localhost:8080/"
        },
        "outputId": "4a456fa9-b15f-43a9-9218-aa4988775f32"
      },
      "outputs": [
        {
          "output_type": "stream",
          "name": "stdout",
          "text": [
            "1102\n",
            "368\n"
          ]
        }
      ],
      "source": [
        "# Split the data into training and testing sets\n",
        "from sklearn.model_selection import train_test_split\n",
        "\n",
        "X_train, X_test, y_train, y_test = train_test_split(X_df, y_df, random_state=1)\n",
        "print(len(X_train))\n",
        "print(len(X_test))"
      ]
    },
    {
      "cell_type": "code",
      "execution_count": null,
      "metadata": {
        "id": "NYubUJqiLCSp"
      },
      "outputs": [],
      "source": [
        "# Convert your X data to numeric data types however you see fit\n",
        "# Add new code cells as necessary\n",
        "\n"
      ]
    },
    {
      "cell_type": "code",
      "source": [
        "# Convert the 'BusinessTravel' column to string type in both DataFrames\n",
        "X_train['BusinessTravel'] = X_train['BusinessTravel'].astype(str)\n",
        "X_test['BusinessTravel'] = X_test['BusinessTravel'].astype(str)\n"
      ],
      "metadata": {
        "id": "PP76msU1tJgw"
      },
      "execution_count": null,
      "outputs": []
    },
    {
      "cell_type": "code",
      "source": [
        "#OrdinalEncode for BusinessTravel\n",
        "travel_encoder = OrdinalEncoder(categories=[['Non-Travel', 'Travel_Rarely', 'Travel_Frequently']])\n",
        "X_train['BusinessTravel'] = travel_encoder.fit_transform(X_train[['BusinessTravel']])\n",
        "X_test['BusinessTravel'] = travel_encoder.transform(X_test[['BusinessTravel']])\n"
      ],
      "metadata": {
        "id": "HeT-m0OGq0Bu"
      },
      "execution_count": null,
      "outputs": []
    },
    {
      "cell_type": "code",
      "source": [
        "#OneHotEncoder for EducationField\n",
        "education_encoder = OneHotEncoder(sparse=False)\n",
        "education_encoder.fit(X_train[['EducationField']])\n",
        "X_train_encoded_field = education_encoder.transform(X_train[['EducationField']])\n",
        "X_test_encoded_field = education_encoder.transform(X_test[['EducationField']])\n",
        "X_train_encoded_field = pd.DataFrame(X_train_encoded_field, columns=education_encoder.get_feature_names_out())\n",
        "X_test_encoded_field = pd.DataFrame(X_test_encoded_field, columns=education_encoder.get_feature_names_out())\n"
      ],
      "metadata": {
        "colab": {
          "base_uri": "https://localhost:8080/"
        },
        "id": "OxVMT7Kbruu1",
        "outputId": "5cdc203b-73bf-4347-ca74-d654a8e0ba0f"
      },
      "execution_count": null,
      "outputs": [
        {
          "output_type": "stream",
          "name": "stderr",
          "text": [
            "/usr/local/lib/python3.10/dist-packages/sklearn/preprocessing/_encoders.py:868: FutureWarning: `sparse` was renamed to `sparse_output` in version 1.2 and will be removed in 1.4. `sparse_output` is ignored unless you leave `sparse` to its default value.\n",
            "  warnings.warn(\n"
          ]
        }
      ]
    },
    {
      "cell_type": "code",
      "execution_count": null,
      "metadata": {
        "id": "EWA-aIA5Gc3T"
      },
      "outputs": [],
      "source": [
        "# Create a StandardScaler\n",
        "scaler = StandardScaler()\n",
        "\n",
        "# Fit the StandardScaler to the training data\n",
        "scaler.fit(X_train_encoded_field)\n",
        "\n",
        "\n",
        "# Scale the training and testing data\n",
        "X_train_scaled = scaler.transform(X_train_encoded_field)\n",
        "X_test_scaled = scaler.transform(X_test_encoded_field)\n"
      ]
    },
    {
      "cell_type": "code",
      "execution_count": null,
      "metadata": {
        "colab": {
          "base_uri": "https://localhost:8080/"
        },
        "id": "-z0Mky8vQSz4",
        "outputId": "28ec20de-b72f-4af9-9ea2-96495e0c7686"
      },
      "outputs": [
        {
          "output_type": "stream",
          "name": "stdout",
          "text": [
            "1102\n",
            "368\n"
          ]
        },
        {
          "output_type": "stream",
          "name": "stderr",
          "text": [
            "/usr/local/lib/python3.10/dist-packages/sklearn/preprocessing/_encoders.py:868: FutureWarning: `sparse` was renamed to `sparse_output` in version 1.2 and will be removed in 1.4. `sparse_output` is ignored unless you leave `sparse` to its default value.\n",
            "  warnings.warn(\n"
          ]
        }
      ],
      "source": [
        "# Create a OneHotEncoder for the Department column\n",
        "department_encoder = OneHotEncoder(sparse=False)\n",
        "\n",
        "# Fit the encoder to the training data\n",
        "department_encoder.fit(y_train[['Department']])\n",
        "\n",
        "# Create two new variables by applying the encoder\n",
        "# to the training and testing data\n",
        "y_train_department_encoded = department_encoder.transform(y_train[['Department']])\n",
        "y_test_department_encoded = department_encoder.transform(y_test[['Department']])\n",
        "\n",
        "print(len(y_train_department_encoded))\n",
        "print(len(y_test_department_encoded))"
      ]
    },
    {
      "cell_type": "code",
      "execution_count": null,
      "metadata": {
        "colab": {
          "base_uri": "https://localhost:8080/"
        },
        "id": "-G4DSpvFRrk4",
        "outputId": "7184f099-1267-4257-c10e-bf264d913fff"
      },
      "outputs": [
        {
          "output_type": "stream",
          "name": "stdout",
          "text": [
            "1102\n",
            "368\n"
          ]
        },
        {
          "output_type": "stream",
          "name": "stderr",
          "text": [
            "/usr/local/lib/python3.10/dist-packages/sklearn/preprocessing/_encoders.py:868: FutureWarning: `sparse` was renamed to `sparse_output` in version 1.2 and will be removed in 1.4. `sparse_output` is ignored unless you leave `sparse` to its default value.\n",
            "  warnings.warn(\n"
          ]
        }
      ],
      "source": [
        "# Create a OneHotEncoder for the Attrition column\n",
        "attrition_encoder = OneHotEncoder(sparse=False)\n",
        "\n",
        "\n",
        "# Fit the encoder to the training data\n",
        "attrition_encoder.fit(y_train[['Attrition']])\n",
        "\n",
        "\n",
        "# Create two new variables by applying the encoder\n",
        "# to the training and testing data\n",
        "y_train_attrition_encoded = attrition_encoder.transform(y_train[['Attrition']])\n",
        "y_test_attrition_encoded = attrition_encoder.transform(y_test[['Attrition']])\n",
        "\n",
        "print(len(y_train_attrition_encoded))\n",
        "print(len(y_test_attrition_encoded))"
      ]
    },
    {
      "cell_type": "markdown",
      "metadata": {
        "id": "ykNmu_WWGc3T"
      },
      "source": [
        "## Create, Compile, and Train the Model"
      ]
    },
    {
      "cell_type": "code",
      "execution_count": null,
      "metadata": {
        "id": "WUptZqmSGc3T"
      },
      "outputs": [],
      "source": [
        "# Find the number of columns in the X training data\n",
        "input_features = X_train_scaled.shape[1]\n",
        "\n",
        "# Create the input layer\n",
        "input_layer = layers.Input(shape=input_features, name='input_layer')\n",
        "\n",
        "\n",
        "# Create at least two shared layers\n",
        "shared_layer_1 = layers.Dense(units=12, activation='relu', name='shared_layer_1')(input_layer)\n",
        "shared_layer_2 = layers.Dense(units=6, activation='relu', name='shared_layer_2')(shared_layer_1)\n"
      ]
    },
    {
      "cell_type": "code",
      "execution_count": null,
      "metadata": {
        "id": "JukjTm2yTEqd"
      },
      "outputs": [],
      "source": [
        "# Create a branch for Department\n",
        "# with a hidden layer and an output layer\n",
        "\n",
        "# Create the hidden layer\n",
        "department_hidden_layer = layers.Dense(units=6, activation='relu', name='department_hidden_layer')(shared_layer_2)\n",
        "\n",
        "\n",
        "# Create the output layer\n",
        "department_output_layer = layers.Dense(units=3, activation='softmax', name='department_output_layer')(department_hidden_layer)\n",
        "\n"
      ]
    },
    {
      "cell_type": "code",
      "execution_count": null,
      "metadata": {
        "id": "9OqhUiOJUBkR"
      },
      "outputs": [],
      "source": [
        "# Create a branch for Attrition\n",
        "# with a hidden layer and an output layer\n",
        "\n",
        "# Create the hidden layer\n",
        "attrition_hidden_layer = layers.Dense(units=4, activation='relu', name='attrition_hidden_layer')(shared_layer_2)\n",
        "\n",
        "\n",
        "# Create the output layer\n",
        "attrition_output_layer = layers.Dense(units=2, activation='sigmoid', name='attrition_output_layer')(attrition_hidden_layer)\n",
        "\n"
      ]
    },
    {
      "cell_type": "code",
      "execution_count": null,
      "metadata": {
        "colab": {
          "base_uri": "https://localhost:8080/"
        },
        "id": "twmuejdxGc3T",
        "outputId": "b986f154-fc20-44ad-c83e-3ad0fb5a69f0"
      },
      "outputs": [
        {
          "output_type": "stream",
          "name": "stdout",
          "text": [
            "Model: \"model\"\n",
            "__________________________________________________________________________________________________\n",
            " Layer (type)                Output Shape                 Param #   Connected to                  \n",
            "==================================================================================================\n",
            " input_layer (InputLayer)    [(None, 6)]                  0         []                            \n",
            "                                                                                                  \n",
            " shared_layer_1 (Dense)      (None, 12)                   84        ['input_layer[0][0]']         \n",
            "                                                                                                  \n",
            " shared_layer_2 (Dense)      (None, 6)                    78        ['shared_layer_1[0][0]']      \n",
            "                                                                                                  \n",
            " department_hidden_layer (D  (None, 6)                    42        ['shared_layer_2[0][0]']      \n",
            " ense)                                                                                            \n",
            "                                                                                                  \n",
            " attrition_hidden_layer (De  (None, 4)                    28        ['shared_layer_2[0][0]']      \n",
            " nse)                                                                                             \n",
            "                                                                                                  \n",
            " department_output_layer (D  (None, 3)                    21        ['department_hidden_layer[0][0\n",
            " ense)                                                              ]']                           \n",
            "                                                                                                  \n",
            " attrition_output_layer (De  (None, 2)                    10        ['attrition_hidden_layer[0][0]\n",
            " nse)                                                               ']                            \n",
            "                                                                                                  \n",
            "==================================================================================================\n",
            "Total params: 263 (1.03 KB)\n",
            "Trainable params: 263 (1.03 KB)\n",
            "Non-trainable params: 0 (0.00 Byte)\n",
            "__________________________________________________________________________________________________\n"
          ]
        }
      ],
      "source": [
        "# Create the model\n",
        "model = Model(\n",
        "    inputs=input_layer,\n",
        "    outputs=[department_output_layer, attrition_output_layer]\n",
        ")\n",
        "\n",
        "# Compile the model\n",
        "model.compile(\n",
        "    optimizer='adam',\n",
        "    loss={\n",
        "        'department_output_layer': 'categorical_crossentropy',\n",
        "        'attrition_output_layer': 'binary_crossentropy'\n",
        "    },\n",
        "    metrics=['accuracy']\n",
        ")\n",
        "\n",
        "# Summarize the model\n",
        "model.summary()"
      ]
    },
    {
      "cell_type": "code",
      "execution_count": null,
      "metadata": {
        "colab": {
          "base_uri": "https://localhost:8080/"
        },
        "id": "c8oGy0dpGc3U",
        "outputId": "e2cd158b-5ede-4b2e-a9eb-d346b2e940b4"
      },
      "outputs": [
        {
          "output_type": "stream",
          "name": "stdout",
          "text": [
            "Epoch 1/100\n",
            "35/35 [==============================] - 2s 14ms/step - loss: 1.7273 - department_output_layer_loss: 1.0282 - attrition_output_layer_loss: 0.6991 - department_output_layer_accuracy: 0.4356 - attrition_output_layer_accuracy: 0.4982 - val_loss: 1.6647 - val_department_output_layer_loss: 0.9811 - val_attrition_output_layer_loss: 0.6836 - val_department_output_layer_accuracy: 0.5353 - val_attrition_output_layer_accuracy: 0.7065\n",
            "Epoch 2/100\n",
            "35/35 [==============================] - 0s 4ms/step - loss: 1.5840 - department_output_layer_loss: 0.9472 - attrition_output_layer_loss: 0.6369 - department_output_layer_accuracy: 0.6488 - attrition_output_layer_accuracy: 0.7722 - val_loss: 1.5029 - val_department_output_layer_loss: 0.8935 - val_attrition_output_layer_loss: 0.6094 - val_department_output_layer_accuracy: 0.7473 - val_attrition_output_layer_accuracy: 0.7364\n",
            "Epoch 3/100\n",
            "35/35 [==============================] - 0s 4ms/step - loss: 1.3968 - department_output_layer_loss: 0.8476 - attrition_output_layer_loss: 0.5493 - department_output_layer_accuracy: 0.7232 - attrition_output_layer_accuracy: 0.7922 - val_loss: 1.3374 - val_department_output_layer_loss: 0.7821 - val_attrition_output_layer_loss: 0.5553 - val_department_output_layer_accuracy: 0.7283 - val_attrition_output_layer_accuracy: 0.7364\n",
            "Epoch 4/100\n",
            "35/35 [==============================] - 0s 4ms/step - loss: 1.2320 - department_output_layer_loss: 0.7409 - attrition_output_layer_loss: 0.4911 - department_output_layer_accuracy: 0.7550 - attrition_output_layer_accuracy: 0.7922 - val_loss: 1.2205 - val_department_output_layer_loss: 0.6893 - val_attrition_output_layer_loss: 0.5312 - val_department_output_layer_accuracy: 0.7527 - val_attrition_output_layer_accuracy: 0.7364\n",
            "Epoch 5/100\n",
            "35/35 [==============================] - 0s 5ms/step - loss: 1.1189 - department_output_layer_loss: 0.6628 - attrition_output_layer_loss: 0.4561 - department_output_layer_accuracy: 0.7650 - attrition_output_layer_accuracy: 0.8439 - val_loss: 1.1499 - val_department_output_layer_loss: 0.6354 - val_attrition_output_layer_loss: 0.5145 - val_department_output_layer_accuracy: 0.7527 - val_attrition_output_layer_accuracy: 0.8152\n",
            "Epoch 6/100\n",
            "35/35 [==============================] - 0s 4ms/step - loss: 1.0608 - department_output_layer_loss: 0.6245 - attrition_output_layer_loss: 0.4363 - department_output_layer_accuracy: 0.7650 - attrition_output_layer_accuracy: 0.8466 - val_loss: 1.1169 - val_department_output_layer_loss: 0.6105 - val_attrition_output_layer_loss: 0.5064 - val_department_output_layer_accuracy: 0.7527 - val_attrition_output_layer_accuracy: 0.8152\n",
            "Epoch 7/100\n",
            "35/35 [==============================] - 0s 4ms/step - loss: 1.0366 - department_output_layer_loss: 0.6073 - attrition_output_layer_loss: 0.4293 - department_output_layer_accuracy: 0.7668 - attrition_output_layer_accuracy: 0.8466 - val_loss: 1.0982 - val_department_output_layer_loss: 0.5968 - val_attrition_output_layer_loss: 0.5013 - val_department_output_layer_accuracy: 0.7717 - val_attrition_output_layer_accuracy: 0.8152\n",
            "Epoch 8/100\n",
            "35/35 [==============================] - 0s 5ms/step - loss: 1.0227 - department_output_layer_loss: 0.5972 - attrition_output_layer_loss: 0.4256 - department_output_layer_accuracy: 0.7831 - attrition_output_layer_accuracy: 0.8466 - val_loss: 1.0834 - val_department_output_layer_loss: 0.5876 - val_attrition_output_layer_loss: 0.4958 - val_department_output_layer_accuracy: 0.7717 - val_attrition_output_layer_accuracy: 0.8152\n",
            "Epoch 9/100\n",
            "35/35 [==============================] - 0s 4ms/step - loss: 1.0134 - department_output_layer_loss: 0.5899 - attrition_output_layer_loss: 0.4235 - department_output_layer_accuracy: 0.7831 - attrition_output_layer_accuracy: 0.8466 - val_loss: 1.0746 - val_department_output_layer_loss: 0.5807 - val_attrition_output_layer_loss: 0.4939 - val_department_output_layer_accuracy: 0.7717 - val_attrition_output_layer_accuracy: 0.8152\n",
            "Epoch 10/100\n",
            "35/35 [==============================] - 0s 4ms/step - loss: 1.0080 - department_output_layer_loss: 0.5855 - attrition_output_layer_loss: 0.4226 - department_output_layer_accuracy: 0.7831 - attrition_output_layer_accuracy: 0.8466 - val_loss: 1.0707 - val_department_output_layer_loss: 0.5775 - val_attrition_output_layer_loss: 0.4933 - val_department_output_layer_accuracy: 0.7717 - val_attrition_output_layer_accuracy: 0.8152\n",
            "Epoch 11/100\n",
            "35/35 [==============================] - 0s 4ms/step - loss: 1.0040 - department_output_layer_loss: 0.5819 - attrition_output_layer_loss: 0.4221 - department_output_layer_accuracy: 0.7831 - attrition_output_layer_accuracy: 0.8466 - val_loss: 1.0640 - val_department_output_layer_loss: 0.5729 - val_attrition_output_layer_loss: 0.4911 - val_department_output_layer_accuracy: 0.7717 - val_attrition_output_layer_accuracy: 0.8152\n",
            "Epoch 12/100\n",
            "35/35 [==============================] - 0s 4ms/step - loss: 1.0006 - department_output_layer_loss: 0.5788 - attrition_output_layer_loss: 0.4218 - department_output_layer_accuracy: 0.7831 - attrition_output_layer_accuracy: 0.8466 - val_loss: 1.0623 - val_department_output_layer_loss: 0.5718 - val_attrition_output_layer_loss: 0.4905 - val_department_output_layer_accuracy: 0.7717 - val_attrition_output_layer_accuracy: 0.8152\n",
            "Epoch 13/100\n",
            "35/35 [==============================] - 0s 5ms/step - loss: 0.9983 - department_output_layer_loss: 0.5766 - attrition_output_layer_loss: 0.4217 - department_output_layer_accuracy: 0.7831 - attrition_output_layer_accuracy: 0.8466 - val_loss: 1.0610 - val_department_output_layer_loss: 0.5701 - val_attrition_output_layer_loss: 0.4909 - val_department_output_layer_accuracy: 0.7717 - val_attrition_output_layer_accuracy: 0.8152\n",
            "Epoch 14/100\n",
            "35/35 [==============================] - 0s 4ms/step - loss: 0.9975 - department_output_layer_loss: 0.5758 - attrition_output_layer_loss: 0.4217 - department_output_layer_accuracy: 0.7831 - attrition_output_layer_accuracy: 0.8466 - val_loss: 1.0582 - val_department_output_layer_loss: 0.5687 - val_attrition_output_layer_loss: 0.4896 - val_department_output_layer_accuracy: 0.7717 - val_attrition_output_layer_accuracy: 0.8152\n",
            "Epoch 15/100\n",
            "35/35 [==============================] - 0s 4ms/step - loss: 0.9959 - department_output_layer_loss: 0.5744 - attrition_output_layer_loss: 0.4215 - department_output_layer_accuracy: 0.7831 - attrition_output_layer_accuracy: 0.8466 - val_loss: 1.0583 - val_department_output_layer_loss: 0.5686 - val_attrition_output_layer_loss: 0.4897 - val_department_output_layer_accuracy: 0.7717 - val_attrition_output_layer_accuracy: 0.8152\n",
            "Epoch 16/100\n",
            "35/35 [==============================] - 0s 5ms/step - loss: 0.9975 - department_output_layer_loss: 0.5759 - attrition_output_layer_loss: 0.4215 - department_output_layer_accuracy: 0.7831 - attrition_output_layer_accuracy: 0.8466 - val_loss: 1.0583 - val_department_output_layer_loss: 0.5692 - val_attrition_output_layer_loss: 0.4890 - val_department_output_layer_accuracy: 0.7717 - val_attrition_output_layer_accuracy: 0.8152\n",
            "Epoch 17/100\n",
            "35/35 [==============================] - 0s 4ms/step - loss: 0.9957 - department_output_layer_loss: 0.5739 - attrition_output_layer_loss: 0.4218 - department_output_layer_accuracy: 0.7831 - attrition_output_layer_accuracy: 0.8466 - val_loss: 1.0561 - val_department_output_layer_loss: 0.5680 - val_attrition_output_layer_loss: 0.4882 - val_department_output_layer_accuracy: 0.7717 - val_attrition_output_layer_accuracy: 0.8152\n",
            "Epoch 18/100\n",
            "35/35 [==============================] - 0s 4ms/step - loss: 0.9944 - department_output_layer_loss: 0.5727 - attrition_output_layer_loss: 0.4217 - department_output_layer_accuracy: 0.7831 - attrition_output_layer_accuracy: 0.8466 - val_loss: 1.0581 - val_department_output_layer_loss: 0.5682 - val_attrition_output_layer_loss: 0.4899 - val_department_output_layer_accuracy: 0.7717 - val_attrition_output_layer_accuracy: 0.8152\n",
            "Epoch 19/100\n",
            "35/35 [==============================] - 0s 4ms/step - loss: 0.9935 - department_output_layer_loss: 0.5719 - attrition_output_layer_loss: 0.4217 - department_output_layer_accuracy: 0.7831 - attrition_output_layer_accuracy: 0.8466 - val_loss: 1.0562 - val_department_output_layer_loss: 0.5668 - val_attrition_output_layer_loss: 0.4894 - val_department_output_layer_accuracy: 0.7717 - val_attrition_output_layer_accuracy: 0.8152\n",
            "Epoch 20/100\n",
            "35/35 [==============================] - 0s 4ms/step - loss: 0.9935 - department_output_layer_loss: 0.5719 - attrition_output_layer_loss: 0.4216 - department_output_layer_accuracy: 0.7831 - attrition_output_layer_accuracy: 0.8466 - val_loss: 1.0570 - val_department_output_layer_loss: 0.5672 - val_attrition_output_layer_loss: 0.4898 - val_department_output_layer_accuracy: 0.7717 - val_attrition_output_layer_accuracy: 0.8152\n",
            "Epoch 21/100\n",
            "35/35 [==============================] - 0s 4ms/step - loss: 0.9924 - department_output_layer_loss: 0.5708 - attrition_output_layer_loss: 0.4216 - department_output_layer_accuracy: 0.7831 - attrition_output_layer_accuracy: 0.8466 - val_loss: 1.0573 - val_department_output_layer_loss: 0.5666 - val_attrition_output_layer_loss: 0.4906 - val_department_output_layer_accuracy: 0.7717 - val_attrition_output_layer_accuracy: 0.8152\n",
            "Epoch 22/100\n",
            "35/35 [==============================] - 0s 4ms/step - loss: 0.9933 - department_output_layer_loss: 0.5716 - attrition_output_layer_loss: 0.4217 - department_output_layer_accuracy: 0.7831 - attrition_output_layer_accuracy: 0.8466 - val_loss: 1.0554 - val_department_output_layer_loss: 0.5666 - val_attrition_output_layer_loss: 0.4888 - val_department_output_layer_accuracy: 0.7717 - val_attrition_output_layer_accuracy: 0.8152\n",
            "Epoch 23/100\n",
            "35/35 [==============================] - 0s 5ms/step - loss: 0.9928 - department_output_layer_loss: 0.5716 - attrition_output_layer_loss: 0.4212 - department_output_layer_accuracy: 0.7831 - attrition_output_layer_accuracy: 0.8466 - val_loss: 1.0555 - val_department_output_layer_loss: 0.5664 - val_attrition_output_layer_loss: 0.4891 - val_department_output_layer_accuracy: 0.7717 - val_attrition_output_layer_accuracy: 0.8152\n",
            "Epoch 24/100\n",
            "35/35 [==============================] - 0s 4ms/step - loss: 0.9928 - department_output_layer_loss: 0.5711 - attrition_output_layer_loss: 0.4217 - department_output_layer_accuracy: 0.7831 - attrition_output_layer_accuracy: 0.8466 - val_loss: 1.0566 - val_department_output_layer_loss: 0.5674 - val_attrition_output_layer_loss: 0.4892 - val_department_output_layer_accuracy: 0.7717 - val_attrition_output_layer_accuracy: 0.8152\n",
            "Epoch 25/100\n",
            "35/35 [==============================] - 0s 4ms/step - loss: 0.9923 - department_output_layer_loss: 0.5710 - attrition_output_layer_loss: 0.4212 - department_output_layer_accuracy: 0.7831 - attrition_output_layer_accuracy: 0.8466 - val_loss: 1.0555 - val_department_output_layer_loss: 0.5670 - val_attrition_output_layer_loss: 0.4885 - val_department_output_layer_accuracy: 0.7717 - val_attrition_output_layer_accuracy: 0.8152\n",
            "Epoch 26/100\n",
            "35/35 [==============================] - 0s 4ms/step - loss: 0.9916 - department_output_layer_loss: 0.5702 - attrition_output_layer_loss: 0.4214 - department_output_layer_accuracy: 0.7831 - attrition_output_layer_accuracy: 0.8466 - val_loss: 1.0568 - val_department_output_layer_loss: 0.5672 - val_attrition_output_layer_loss: 0.4895 - val_department_output_layer_accuracy: 0.7717 - val_attrition_output_layer_accuracy: 0.8152\n",
            "Epoch 27/100\n",
            "35/35 [==============================] - 0s 5ms/step - loss: 0.9923 - department_output_layer_loss: 0.5709 - attrition_output_layer_loss: 0.4214 - department_output_layer_accuracy: 0.7831 - attrition_output_layer_accuracy: 0.8466 - val_loss: 1.0568 - val_department_output_layer_loss: 0.5668 - val_attrition_output_layer_loss: 0.4900 - val_department_output_layer_accuracy: 0.7717 - val_attrition_output_layer_accuracy: 0.8152\n",
            "Epoch 28/100\n",
            "35/35 [==============================] - 0s 4ms/step - loss: 0.9918 - department_output_layer_loss: 0.5704 - attrition_output_layer_loss: 0.4214 - department_output_layer_accuracy: 0.7831 - attrition_output_layer_accuracy: 0.8466 - val_loss: 1.0554 - val_department_output_layer_loss: 0.5674 - val_attrition_output_layer_loss: 0.4880 - val_department_output_layer_accuracy: 0.7717 - val_attrition_output_layer_accuracy: 0.8152\n",
            "Epoch 29/100\n",
            "35/35 [==============================] - 0s 4ms/step - loss: 0.9916 - department_output_layer_loss: 0.5705 - attrition_output_layer_loss: 0.4210 - department_output_layer_accuracy: 0.7831 - attrition_output_layer_accuracy: 0.8466 - val_loss: 1.0569 - val_department_output_layer_loss: 0.5670 - val_attrition_output_layer_loss: 0.4898 - val_department_output_layer_accuracy: 0.7717 - val_attrition_output_layer_accuracy: 0.8152\n",
            "Epoch 30/100\n",
            "35/35 [==============================] - 0s 5ms/step - loss: 0.9910 - department_output_layer_loss: 0.5699 - attrition_output_layer_loss: 0.4211 - department_output_layer_accuracy: 0.7831 - attrition_output_layer_accuracy: 0.8466 - val_loss: 1.0567 - val_department_output_layer_loss: 0.5673 - val_attrition_output_layer_loss: 0.4895 - val_department_output_layer_accuracy: 0.7717 - val_attrition_output_layer_accuracy: 0.8152\n",
            "Epoch 31/100\n",
            "35/35 [==============================] - 0s 5ms/step - loss: 0.9912 - department_output_layer_loss: 0.5699 - attrition_output_layer_loss: 0.4213 - department_output_layer_accuracy: 0.7831 - attrition_output_layer_accuracy: 0.8466 - val_loss: 1.0568 - val_department_output_layer_loss: 0.5675 - val_attrition_output_layer_loss: 0.4893 - val_department_output_layer_accuracy: 0.7717 - val_attrition_output_layer_accuracy: 0.8152\n",
            "Epoch 32/100\n",
            "35/35 [==============================] - 0s 5ms/step - loss: 0.9912 - department_output_layer_loss: 0.5701 - attrition_output_layer_loss: 0.4211 - department_output_layer_accuracy: 0.7831 - attrition_output_layer_accuracy: 0.8466 - val_loss: 1.0569 - val_department_output_layer_loss: 0.5671 - val_attrition_output_layer_loss: 0.4899 - val_department_output_layer_accuracy: 0.7717 - val_attrition_output_layer_accuracy: 0.8152\n",
            "Epoch 33/100\n",
            "35/35 [==============================] - 0s 6ms/step - loss: 0.9923 - department_output_layer_loss: 0.5710 - attrition_output_layer_loss: 0.4213 - department_output_layer_accuracy: 0.7831 - attrition_output_layer_accuracy: 0.8466 - val_loss: 1.0587 - val_department_output_layer_loss: 0.5686 - val_attrition_output_layer_loss: 0.4901 - val_department_output_layer_accuracy: 0.7717 - val_attrition_output_layer_accuracy: 0.8152\n",
            "Epoch 34/100\n",
            "35/35 [==============================] - 0s 7ms/step - loss: 0.9914 - department_output_layer_loss: 0.5705 - attrition_output_layer_loss: 0.4209 - department_output_layer_accuracy: 0.7831 - attrition_output_layer_accuracy: 0.8466 - val_loss: 1.0560 - val_department_output_layer_loss: 0.5666 - val_attrition_output_layer_loss: 0.4894 - val_department_output_layer_accuracy: 0.7717 - val_attrition_output_layer_accuracy: 0.8152\n",
            "Epoch 35/100\n",
            "35/35 [==============================] - 0s 7ms/step - loss: 0.9931 - department_output_layer_loss: 0.5723 - attrition_output_layer_loss: 0.4209 - department_output_layer_accuracy: 0.7831 - attrition_output_layer_accuracy: 0.8466 - val_loss: 1.0556 - val_department_output_layer_loss: 0.5660 - val_attrition_output_layer_loss: 0.4896 - val_department_output_layer_accuracy: 0.7717 - val_attrition_output_layer_accuracy: 0.8152\n",
            "Epoch 36/100\n",
            "35/35 [==============================] - 0s 7ms/step - loss: 0.9918 - department_output_layer_loss: 0.5706 - attrition_output_layer_loss: 0.4212 - department_output_layer_accuracy: 0.7831 - attrition_output_layer_accuracy: 0.8466 - val_loss: 1.0579 - val_department_output_layer_loss: 0.5669 - val_attrition_output_layer_loss: 0.4909 - val_department_output_layer_accuracy: 0.7717 - val_attrition_output_layer_accuracy: 0.8152\n",
            "Epoch 37/100\n",
            "35/35 [==============================] - 0s 6ms/step - loss: 0.9909 - department_output_layer_loss: 0.5695 - attrition_output_layer_loss: 0.4214 - department_output_layer_accuracy: 0.7831 - attrition_output_layer_accuracy: 0.8466 - val_loss: 1.0583 - val_department_output_layer_loss: 0.5684 - val_attrition_output_layer_loss: 0.4899 - val_department_output_layer_accuracy: 0.7717 - val_attrition_output_layer_accuracy: 0.8152\n",
            "Epoch 38/100\n",
            "35/35 [==============================] - 0s 6ms/step - loss: 0.9903 - department_output_layer_loss: 0.5695 - attrition_output_layer_loss: 0.4208 - department_output_layer_accuracy: 0.7831 - attrition_output_layer_accuracy: 0.8466 - val_loss: 1.0576 - val_department_output_layer_loss: 0.5676 - val_attrition_output_layer_loss: 0.4900 - val_department_output_layer_accuracy: 0.7717 - val_attrition_output_layer_accuracy: 0.8152\n",
            "Epoch 39/100\n",
            "35/35 [==============================] - 0s 7ms/step - loss: 0.9909 - department_output_layer_loss: 0.5700 - attrition_output_layer_loss: 0.4209 - department_output_layer_accuracy: 0.7831 - attrition_output_layer_accuracy: 0.8466 - val_loss: 1.0582 - val_department_output_layer_loss: 0.5682 - val_attrition_output_layer_loss: 0.4900 - val_department_output_layer_accuracy: 0.7717 - val_attrition_output_layer_accuracy: 0.8152\n",
            "Epoch 40/100\n",
            "35/35 [==============================] - 0s 7ms/step - loss: 0.9925 - department_output_layer_loss: 0.5715 - attrition_output_layer_loss: 0.4210 - department_output_layer_accuracy: 0.7831 - attrition_output_layer_accuracy: 0.8466 - val_loss: 1.0605 - val_department_output_layer_loss: 0.5699 - val_attrition_output_layer_loss: 0.4906 - val_department_output_layer_accuracy: 0.7717 - val_attrition_output_layer_accuracy: 0.8152\n",
            "Epoch 41/100\n",
            "35/35 [==============================] - 0s 7ms/step - loss: 0.9919 - department_output_layer_loss: 0.5707 - attrition_output_layer_loss: 0.4212 - department_output_layer_accuracy: 0.7831 - attrition_output_layer_accuracy: 0.8466 - val_loss: 1.0600 - val_department_output_layer_loss: 0.5686 - val_attrition_output_layer_loss: 0.4915 - val_department_output_layer_accuracy: 0.7717 - val_attrition_output_layer_accuracy: 0.8152\n",
            "Epoch 42/100\n",
            "35/35 [==============================] - 0s 6ms/step - loss: 0.9918 - department_output_layer_loss: 0.5702 - attrition_output_layer_loss: 0.4216 - department_output_layer_accuracy: 0.7831 - attrition_output_layer_accuracy: 0.8466 - val_loss: 1.0568 - val_department_output_layer_loss: 0.5679 - val_attrition_output_layer_loss: 0.4889 - val_department_output_layer_accuracy: 0.7717 - val_attrition_output_layer_accuracy: 0.8152\n",
            "Epoch 43/100\n",
            "35/35 [==============================] - 0s 4ms/step - loss: 0.9916 - department_output_layer_loss: 0.5699 - attrition_output_layer_loss: 0.4217 - department_output_layer_accuracy: 0.7831 - attrition_output_layer_accuracy: 0.8466 - val_loss: 1.0574 - val_department_output_layer_loss: 0.5677 - val_attrition_output_layer_loss: 0.4896 - val_department_output_layer_accuracy: 0.7717 - val_attrition_output_layer_accuracy: 0.8152\n",
            "Epoch 44/100\n",
            "35/35 [==============================] - 0s 4ms/step - loss: 0.9922 - department_output_layer_loss: 0.5713 - attrition_output_layer_loss: 0.4209 - department_output_layer_accuracy: 0.7831 - attrition_output_layer_accuracy: 0.8466 - val_loss: 1.0578 - val_department_output_layer_loss: 0.5677 - val_attrition_output_layer_loss: 0.4900 - val_department_output_layer_accuracy: 0.7717 - val_attrition_output_layer_accuracy: 0.8152\n",
            "Epoch 45/100\n",
            "35/35 [==============================] - 0s 4ms/step - loss: 0.9901 - department_output_layer_loss: 0.5691 - attrition_output_layer_loss: 0.4210 - department_output_layer_accuracy: 0.7831 - attrition_output_layer_accuracy: 0.8466 - val_loss: 1.0583 - val_department_output_layer_loss: 0.5678 - val_attrition_output_layer_loss: 0.4906 - val_department_output_layer_accuracy: 0.7717 - val_attrition_output_layer_accuracy: 0.8152\n",
            "Epoch 46/100\n",
            "35/35 [==============================] - 0s 4ms/step - loss: 0.9902 - department_output_layer_loss: 0.5692 - attrition_output_layer_loss: 0.4210 - department_output_layer_accuracy: 0.7831 - attrition_output_layer_accuracy: 0.8466 - val_loss: 1.0593 - val_department_output_layer_loss: 0.5686 - val_attrition_output_layer_loss: 0.4907 - val_department_output_layer_accuracy: 0.7717 - val_attrition_output_layer_accuracy: 0.8152\n",
            "Epoch 47/100\n",
            "35/35 [==============================] - 0s 4ms/step - loss: 0.9904 - department_output_layer_loss: 0.5695 - attrition_output_layer_loss: 0.4209 - department_output_layer_accuracy: 0.7831 - attrition_output_layer_accuracy: 0.8466 - val_loss: 1.0580 - val_department_output_layer_loss: 0.5677 - val_attrition_output_layer_loss: 0.4903 - val_department_output_layer_accuracy: 0.7717 - val_attrition_output_layer_accuracy: 0.8152\n",
            "Epoch 48/100\n",
            "35/35 [==============================] - 0s 4ms/step - loss: 0.9899 - department_output_layer_loss: 0.5690 - attrition_output_layer_loss: 0.4209 - department_output_layer_accuracy: 0.7831 - attrition_output_layer_accuracy: 0.8466 - val_loss: 1.0592 - val_department_output_layer_loss: 0.5682 - val_attrition_output_layer_loss: 0.4910 - val_department_output_layer_accuracy: 0.7717 - val_attrition_output_layer_accuracy: 0.8152\n",
            "Epoch 49/100\n",
            "35/35 [==============================] - 0s 4ms/step - loss: 0.9932 - department_output_layer_loss: 0.5715 - attrition_output_layer_loss: 0.4217 - department_output_layer_accuracy: 0.7831 - attrition_output_layer_accuracy: 0.8466 - val_loss: 1.0635 - val_department_output_layer_loss: 0.5717 - val_attrition_output_layer_loss: 0.4918 - val_department_output_layer_accuracy: 0.7717 - val_attrition_output_layer_accuracy: 0.8152\n",
            "Epoch 50/100\n",
            "35/35 [==============================] - 0s 4ms/step - loss: 0.9918 - department_output_layer_loss: 0.5708 - attrition_output_layer_loss: 0.4210 - department_output_layer_accuracy: 0.7831 - attrition_output_layer_accuracy: 0.8466 - val_loss: 1.0591 - val_department_output_layer_loss: 0.5694 - val_attrition_output_layer_loss: 0.4897 - val_department_output_layer_accuracy: 0.7717 - val_attrition_output_layer_accuracy: 0.8152\n",
            "Epoch 51/100\n",
            "35/35 [==============================] - 0s 4ms/step - loss: 0.9915 - department_output_layer_loss: 0.5706 - attrition_output_layer_loss: 0.4209 - department_output_layer_accuracy: 0.7831 - attrition_output_layer_accuracy: 0.8466 - val_loss: 1.0573 - val_department_output_layer_loss: 0.5675 - val_attrition_output_layer_loss: 0.4898 - val_department_output_layer_accuracy: 0.7717 - val_attrition_output_layer_accuracy: 0.8152\n",
            "Epoch 52/100\n",
            "35/35 [==============================] - 0s 4ms/step - loss: 0.9907 - department_output_layer_loss: 0.5690 - attrition_output_layer_loss: 0.4217 - department_output_layer_accuracy: 0.7831 - attrition_output_layer_accuracy: 0.8466 - val_loss: 1.0590 - val_department_output_layer_loss: 0.5682 - val_attrition_output_layer_loss: 0.4908 - val_department_output_layer_accuracy: 0.7717 - val_attrition_output_layer_accuracy: 0.8152\n",
            "Epoch 53/100\n",
            "35/35 [==============================] - 0s 4ms/step - loss: 0.9901 - department_output_layer_loss: 0.5693 - attrition_output_layer_loss: 0.4208 - department_output_layer_accuracy: 0.7831 - attrition_output_layer_accuracy: 0.8466 - val_loss: 1.0611 - val_department_output_layer_loss: 0.5705 - val_attrition_output_layer_loss: 0.4905 - val_department_output_layer_accuracy: 0.7717 - val_attrition_output_layer_accuracy: 0.8152\n",
            "Epoch 54/100\n",
            "35/35 [==============================] - 0s 4ms/step - loss: 0.9909 - department_output_layer_loss: 0.5700 - attrition_output_layer_loss: 0.4208 - department_output_layer_accuracy: 0.7831 - attrition_output_layer_accuracy: 0.8466 - val_loss: 1.0599 - val_department_output_layer_loss: 0.5685 - val_attrition_output_layer_loss: 0.4914 - val_department_output_layer_accuracy: 0.7717 - val_attrition_output_layer_accuracy: 0.8152\n",
            "Epoch 55/100\n",
            "35/35 [==============================] - 0s 4ms/step - loss: 0.9909 - department_output_layer_loss: 0.5697 - attrition_output_layer_loss: 0.4212 - department_output_layer_accuracy: 0.7831 - attrition_output_layer_accuracy: 0.8466 - val_loss: 1.0583 - val_department_output_layer_loss: 0.5687 - val_attrition_output_layer_loss: 0.4897 - val_department_output_layer_accuracy: 0.7717 - val_attrition_output_layer_accuracy: 0.8152\n",
            "Epoch 56/100\n",
            "35/35 [==============================] - 0s 4ms/step - loss: 0.9896 - department_output_layer_loss: 0.5689 - attrition_output_layer_loss: 0.4207 - department_output_layer_accuracy: 0.7831 - attrition_output_layer_accuracy: 0.8466 - val_loss: 1.0594 - val_department_output_layer_loss: 0.5688 - val_attrition_output_layer_loss: 0.4906 - val_department_output_layer_accuracy: 0.7717 - val_attrition_output_layer_accuracy: 0.8152\n",
            "Epoch 57/100\n",
            "35/35 [==============================] - 0s 4ms/step - loss: 0.9902 - department_output_layer_loss: 0.5694 - attrition_output_layer_loss: 0.4208 - department_output_layer_accuracy: 0.7831 - attrition_output_layer_accuracy: 0.8466 - val_loss: 1.0609 - val_department_output_layer_loss: 0.5688 - val_attrition_output_layer_loss: 0.4922 - val_department_output_layer_accuracy: 0.7717 - val_attrition_output_layer_accuracy: 0.8152\n",
            "Epoch 58/100\n",
            "35/35 [==============================] - 0s 4ms/step - loss: 0.9905 - department_output_layer_loss: 0.5694 - attrition_output_layer_loss: 0.4211 - department_output_layer_accuracy: 0.7831 - attrition_output_layer_accuracy: 0.8466 - val_loss: 1.0589 - val_department_output_layer_loss: 0.5682 - val_attrition_output_layer_loss: 0.4907 - val_department_output_layer_accuracy: 0.7717 - val_attrition_output_layer_accuracy: 0.8152\n",
            "Epoch 59/100\n",
            "35/35 [==============================] - 0s 4ms/step - loss: 0.9902 - department_output_layer_loss: 0.5695 - attrition_output_layer_loss: 0.4208 - department_output_layer_accuracy: 0.7831 - attrition_output_layer_accuracy: 0.8466 - val_loss: 1.0608 - val_department_output_layer_loss: 0.5694 - val_attrition_output_layer_loss: 0.4915 - val_department_output_layer_accuracy: 0.7717 - val_attrition_output_layer_accuracy: 0.8152\n",
            "Epoch 60/100\n",
            "35/35 [==============================] - 0s 4ms/step - loss: 0.9904 - department_output_layer_loss: 0.5695 - attrition_output_layer_loss: 0.4209 - department_output_layer_accuracy: 0.7831 - attrition_output_layer_accuracy: 0.8466 - val_loss: 1.0598 - val_department_output_layer_loss: 0.5686 - val_attrition_output_layer_loss: 0.4913 - val_department_output_layer_accuracy: 0.7717 - val_attrition_output_layer_accuracy: 0.8152\n",
            "Epoch 61/100\n",
            "35/35 [==============================] - 0s 4ms/step - loss: 0.9901 - department_output_layer_loss: 0.5693 - attrition_output_layer_loss: 0.4208 - department_output_layer_accuracy: 0.7831 - attrition_output_layer_accuracy: 0.8466 - val_loss: 1.0591 - val_department_output_layer_loss: 0.5679 - val_attrition_output_layer_loss: 0.4912 - val_department_output_layer_accuracy: 0.7717 - val_attrition_output_layer_accuracy: 0.8152\n",
            "Epoch 62/100\n",
            "35/35 [==============================] - 0s 4ms/step - loss: 0.9901 - department_output_layer_loss: 0.5692 - attrition_output_layer_loss: 0.4209 - department_output_layer_accuracy: 0.7831 - attrition_output_layer_accuracy: 0.8466 - val_loss: 1.0601 - val_department_output_layer_loss: 0.5692 - val_attrition_output_layer_loss: 0.4909 - val_department_output_layer_accuracy: 0.7717 - val_attrition_output_layer_accuracy: 0.8152\n",
            "Epoch 63/100\n",
            "35/35 [==============================] - 0s 4ms/step - loss: 0.9918 - department_output_layer_loss: 0.5708 - attrition_output_layer_loss: 0.4210 - department_output_layer_accuracy: 0.7831 - attrition_output_layer_accuracy: 0.8466 - val_loss: 1.0592 - val_department_output_layer_loss: 0.5688 - val_attrition_output_layer_loss: 0.4904 - val_department_output_layer_accuracy: 0.7717 - val_attrition_output_layer_accuracy: 0.8152\n",
            "Epoch 64/100\n",
            "35/35 [==============================] - 0s 4ms/step - loss: 0.9911 - department_output_layer_loss: 0.5703 - attrition_output_layer_loss: 0.4207 - department_output_layer_accuracy: 0.7831 - attrition_output_layer_accuracy: 0.8466 - val_loss: 1.0620 - val_department_output_layer_loss: 0.5703 - val_attrition_output_layer_loss: 0.4917 - val_department_output_layer_accuracy: 0.7717 - val_attrition_output_layer_accuracy: 0.8152\n",
            "Epoch 65/100\n",
            "35/35 [==============================] - 0s 4ms/step - loss: 0.9905 - department_output_layer_loss: 0.5696 - attrition_output_layer_loss: 0.4209 - department_output_layer_accuracy: 0.7831 - attrition_output_layer_accuracy: 0.8466 - val_loss: 1.0600 - val_department_output_layer_loss: 0.5685 - val_attrition_output_layer_loss: 0.4916 - val_department_output_layer_accuracy: 0.7717 - val_attrition_output_layer_accuracy: 0.8152\n",
            "Epoch 66/100\n",
            "35/35 [==============================] - 0s 4ms/step - loss: 0.9906 - department_output_layer_loss: 0.5694 - attrition_output_layer_loss: 0.4213 - department_output_layer_accuracy: 0.7831 - attrition_output_layer_accuracy: 0.8466 - val_loss: 1.0589 - val_department_output_layer_loss: 0.5688 - val_attrition_output_layer_loss: 0.4901 - val_department_output_layer_accuracy: 0.7717 - val_attrition_output_layer_accuracy: 0.8152\n",
            "Epoch 67/100\n",
            "35/35 [==============================] - 0s 4ms/step - loss: 0.9914 - department_output_layer_loss: 0.5708 - attrition_output_layer_loss: 0.4207 - department_output_layer_accuracy: 0.7831 - attrition_output_layer_accuracy: 0.8466 - val_loss: 1.0639 - val_department_output_layer_loss: 0.5718 - val_attrition_output_layer_loss: 0.4921 - val_department_output_layer_accuracy: 0.7717 - val_attrition_output_layer_accuracy: 0.8152\n",
            "Epoch 68/100\n",
            "35/35 [==============================] - 0s 4ms/step - loss: 0.9908 - department_output_layer_loss: 0.5693 - attrition_output_layer_loss: 0.4215 - department_output_layer_accuracy: 0.7831 - attrition_output_layer_accuracy: 0.8466 - val_loss: 1.0583 - val_department_output_layer_loss: 0.5678 - val_attrition_output_layer_loss: 0.4904 - val_department_output_layer_accuracy: 0.7717 - val_attrition_output_layer_accuracy: 0.8152\n",
            "Epoch 69/100\n",
            "35/35 [==============================] - 0s 4ms/step - loss: 0.9901 - department_output_layer_loss: 0.5690 - attrition_output_layer_loss: 0.4211 - department_output_layer_accuracy: 0.7831 - attrition_output_layer_accuracy: 0.8466 - val_loss: 1.0612 - val_department_output_layer_loss: 0.5690 - val_attrition_output_layer_loss: 0.4922 - val_department_output_layer_accuracy: 0.7717 - val_attrition_output_layer_accuracy: 0.8152\n",
            "Epoch 70/100\n",
            "35/35 [==============================] - 0s 4ms/step - loss: 0.9901 - department_output_layer_loss: 0.5691 - attrition_output_layer_loss: 0.4210 - department_output_layer_accuracy: 0.7831 - attrition_output_layer_accuracy: 0.8466 - val_loss: 1.0604 - val_department_output_layer_loss: 0.5698 - val_attrition_output_layer_loss: 0.4906 - val_department_output_layer_accuracy: 0.7717 - val_attrition_output_layer_accuracy: 0.8152\n",
            "Epoch 71/100\n",
            "35/35 [==============================] - 0s 4ms/step - loss: 0.9907 - department_output_layer_loss: 0.5696 - attrition_output_layer_loss: 0.4211 - department_output_layer_accuracy: 0.7831 - attrition_output_layer_accuracy: 0.8466 - val_loss: 1.0603 - val_department_output_layer_loss: 0.5692 - val_attrition_output_layer_loss: 0.4911 - val_department_output_layer_accuracy: 0.7717 - val_attrition_output_layer_accuracy: 0.8152\n",
            "Epoch 72/100\n",
            "35/35 [==============================] - 0s 4ms/step - loss: 0.9904 - department_output_layer_loss: 0.5696 - attrition_output_layer_loss: 0.4208 - department_output_layer_accuracy: 0.7831 - attrition_output_layer_accuracy: 0.8466 - val_loss: 1.0616 - val_department_output_layer_loss: 0.5707 - val_attrition_output_layer_loss: 0.4909 - val_department_output_layer_accuracy: 0.7717 - val_attrition_output_layer_accuracy: 0.8152\n",
            "Epoch 73/100\n",
            "35/35 [==============================] - 0s 4ms/step - loss: 0.9901 - department_output_layer_loss: 0.5694 - attrition_output_layer_loss: 0.4207 - department_output_layer_accuracy: 0.7831 - attrition_output_layer_accuracy: 0.8466 - val_loss: 1.0590 - val_department_output_layer_loss: 0.5683 - val_attrition_output_layer_loss: 0.4907 - val_department_output_layer_accuracy: 0.7717 - val_attrition_output_layer_accuracy: 0.8152\n",
            "Epoch 74/100\n",
            "35/35 [==============================] - 0s 4ms/step - loss: 0.9907 - department_output_layer_loss: 0.5701 - attrition_output_layer_loss: 0.4207 - department_output_layer_accuracy: 0.7831 - attrition_output_layer_accuracy: 0.8466 - val_loss: 1.0618 - val_department_output_layer_loss: 0.5706 - val_attrition_output_layer_loss: 0.4913 - val_department_output_layer_accuracy: 0.7717 - val_attrition_output_layer_accuracy: 0.8152\n",
            "Epoch 75/100\n",
            "35/35 [==============================] - 0s 4ms/step - loss: 0.9911 - department_output_layer_loss: 0.5700 - attrition_output_layer_loss: 0.4211 - department_output_layer_accuracy: 0.7831 - attrition_output_layer_accuracy: 0.8466 - val_loss: 1.0606 - val_department_output_layer_loss: 0.5694 - val_attrition_output_layer_loss: 0.4912 - val_department_output_layer_accuracy: 0.7717 - val_attrition_output_layer_accuracy: 0.8152\n",
            "Epoch 76/100\n",
            "35/35 [==============================] - 0s 4ms/step - loss: 0.9900 - department_output_layer_loss: 0.5691 - attrition_output_layer_loss: 0.4208 - department_output_layer_accuracy: 0.7831 - attrition_output_layer_accuracy: 0.8466 - val_loss: 1.0607 - val_department_output_layer_loss: 0.5695 - val_attrition_output_layer_loss: 0.4912 - val_department_output_layer_accuracy: 0.7717 - val_attrition_output_layer_accuracy: 0.8152\n",
            "Epoch 77/100\n",
            "35/35 [==============================] - 0s 4ms/step - loss: 0.9897 - department_output_layer_loss: 0.5688 - attrition_output_layer_loss: 0.4209 - department_output_layer_accuracy: 0.7831 - attrition_output_layer_accuracy: 0.8466 - val_loss: 1.0596 - val_department_output_layer_loss: 0.5686 - val_attrition_output_layer_loss: 0.4910 - val_department_output_layer_accuracy: 0.7717 - val_attrition_output_layer_accuracy: 0.8152\n",
            "Epoch 78/100\n",
            "35/35 [==============================] - 0s 4ms/step - loss: 0.9903 - department_output_layer_loss: 0.5691 - attrition_output_layer_loss: 0.4211 - department_output_layer_accuracy: 0.7831 - attrition_output_layer_accuracy: 0.8466 - val_loss: 1.0605 - val_department_output_layer_loss: 0.5689 - val_attrition_output_layer_loss: 0.4916 - val_department_output_layer_accuracy: 0.7717 - val_attrition_output_layer_accuracy: 0.8152\n",
            "Epoch 79/100\n",
            "35/35 [==============================] - 0s 4ms/step - loss: 0.9907 - department_output_layer_loss: 0.5700 - attrition_output_layer_loss: 0.4207 - department_output_layer_accuracy: 0.7831 - attrition_output_layer_accuracy: 0.8466 - val_loss: 1.0608 - val_department_output_layer_loss: 0.5694 - val_attrition_output_layer_loss: 0.4914 - val_department_output_layer_accuracy: 0.7717 - val_attrition_output_layer_accuracy: 0.8152\n",
            "Epoch 80/100\n",
            "35/35 [==============================] - 0s 6ms/step - loss: 0.9908 - department_output_layer_loss: 0.5699 - attrition_output_layer_loss: 0.4209 - department_output_layer_accuracy: 0.7831 - attrition_output_layer_accuracy: 0.8466 - val_loss: 1.0619 - val_department_output_layer_loss: 0.5706 - val_attrition_output_layer_loss: 0.4913 - val_department_output_layer_accuracy: 0.7717 - val_attrition_output_layer_accuracy: 0.8152\n",
            "Epoch 81/100\n",
            "35/35 [==============================] - 0s 7ms/step - loss: 0.9909 - department_output_layer_loss: 0.5697 - attrition_output_layer_loss: 0.4213 - department_output_layer_accuracy: 0.7831 - attrition_output_layer_accuracy: 0.8466 - val_loss: 1.0591 - val_department_output_layer_loss: 0.5684 - val_attrition_output_layer_loss: 0.4907 - val_department_output_layer_accuracy: 0.7717 - val_attrition_output_layer_accuracy: 0.8152\n",
            "Epoch 82/100\n",
            "35/35 [==============================] - 0s 5ms/step - loss: 0.9895 - department_output_layer_loss: 0.5688 - attrition_output_layer_loss: 0.4208 - department_output_layer_accuracy: 0.7831 - attrition_output_layer_accuracy: 0.8466 - val_loss: 1.0598 - val_department_output_layer_loss: 0.5685 - val_attrition_output_layer_loss: 0.4913 - val_department_output_layer_accuracy: 0.7717 - val_attrition_output_layer_accuracy: 0.8152\n",
            "Epoch 83/100\n",
            "35/35 [==============================] - 0s 5ms/step - loss: 0.9906 - department_output_layer_loss: 0.5700 - attrition_output_layer_loss: 0.4207 - department_output_layer_accuracy: 0.7831 - attrition_output_layer_accuracy: 0.8466 - val_loss: 1.0601 - val_department_output_layer_loss: 0.5689 - val_attrition_output_layer_loss: 0.4912 - val_department_output_layer_accuracy: 0.7717 - val_attrition_output_layer_accuracy: 0.8152\n",
            "Epoch 84/100\n",
            "35/35 [==============================] - 0s 6ms/step - loss: 0.9900 - department_output_layer_loss: 0.5687 - attrition_output_layer_loss: 0.4213 - department_output_layer_accuracy: 0.7831 - attrition_output_layer_accuracy: 0.8466 - val_loss: 1.0614 - val_department_output_layer_loss: 0.5690 - val_attrition_output_layer_loss: 0.4924 - val_department_output_layer_accuracy: 0.7717 - val_attrition_output_layer_accuracy: 0.8152\n",
            "Epoch 85/100\n",
            "35/35 [==============================] - 0s 6ms/step - loss: 0.9902 - department_output_layer_loss: 0.5694 - attrition_output_layer_loss: 0.4208 - department_output_layer_accuracy: 0.7831 - attrition_output_layer_accuracy: 0.8466 - val_loss: 1.0609 - val_department_output_layer_loss: 0.5699 - val_attrition_output_layer_loss: 0.4910 - val_department_output_layer_accuracy: 0.7717 - val_attrition_output_layer_accuracy: 0.8152\n",
            "Epoch 86/100\n",
            "35/35 [==============================] - 0s 5ms/step - loss: 0.9897 - department_output_layer_loss: 0.5689 - attrition_output_layer_loss: 0.4208 - department_output_layer_accuracy: 0.7831 - attrition_output_layer_accuracy: 0.8466 - val_loss: 1.0604 - val_department_output_layer_loss: 0.5698 - val_attrition_output_layer_loss: 0.4906 - val_department_output_layer_accuracy: 0.7717 - val_attrition_output_layer_accuracy: 0.8152\n",
            "Epoch 87/100\n",
            "35/35 [==============================] - 0s 4ms/step - loss: 0.9910 - department_output_layer_loss: 0.5702 - attrition_output_layer_loss: 0.4208 - department_output_layer_accuracy: 0.7831 - attrition_output_layer_accuracy: 0.8466 - val_loss: 1.0611 - val_department_output_layer_loss: 0.5700 - val_attrition_output_layer_loss: 0.4912 - val_department_output_layer_accuracy: 0.7717 - val_attrition_output_layer_accuracy: 0.8152\n",
            "Epoch 88/100\n",
            "35/35 [==============================] - 0s 6ms/step - loss: 0.9906 - department_output_layer_loss: 0.5695 - attrition_output_layer_loss: 0.4211 - department_output_layer_accuracy: 0.7831 - attrition_output_layer_accuracy: 0.8466 - val_loss: 1.0619 - val_department_output_layer_loss: 0.5695 - val_attrition_output_layer_loss: 0.4924 - val_department_output_layer_accuracy: 0.7717 - val_attrition_output_layer_accuracy: 0.8152\n",
            "Epoch 89/100\n",
            "35/35 [==============================] - 0s 4ms/step - loss: 0.9891 - department_output_layer_loss: 0.5686 - attrition_output_layer_loss: 0.4205 - department_output_layer_accuracy: 0.7831 - attrition_output_layer_accuracy: 0.8466 - val_loss: 1.0589 - val_department_output_layer_loss: 0.5686 - val_attrition_output_layer_loss: 0.4903 - val_department_output_layer_accuracy: 0.7717 - val_attrition_output_layer_accuracy: 0.8152\n",
            "Epoch 90/100\n",
            "35/35 [==============================] - 0s 7ms/step - loss: 0.9897 - department_output_layer_loss: 0.5689 - attrition_output_layer_loss: 0.4208 - department_output_layer_accuracy: 0.7831 - attrition_output_layer_accuracy: 0.8466 - val_loss: 1.0607 - val_department_output_layer_loss: 0.5707 - val_attrition_output_layer_loss: 0.4900 - val_department_output_layer_accuracy: 0.7717 - val_attrition_output_layer_accuracy: 0.8152\n",
            "Epoch 91/100\n",
            "35/35 [==============================] - 0s 5ms/step - loss: 0.9909 - department_output_layer_loss: 0.5694 - attrition_output_layer_loss: 0.4214 - department_output_layer_accuracy: 0.7831 - attrition_output_layer_accuracy: 0.8466 - val_loss: 1.0610 - val_department_output_layer_loss: 0.5690 - val_attrition_output_layer_loss: 0.4919 - val_department_output_layer_accuracy: 0.7717 - val_attrition_output_layer_accuracy: 0.8152\n",
            "Epoch 92/100\n",
            "35/35 [==============================] - 0s 5ms/step - loss: 0.9899 - department_output_layer_loss: 0.5689 - attrition_output_layer_loss: 0.4210 - department_output_layer_accuracy: 0.7831 - attrition_output_layer_accuracy: 0.8466 - val_loss: 1.0617 - val_department_output_layer_loss: 0.5705 - val_attrition_output_layer_loss: 0.4912 - val_department_output_layer_accuracy: 0.7717 - val_attrition_output_layer_accuracy: 0.8152\n",
            "Epoch 93/100\n",
            "35/35 [==============================] - 0s 7ms/step - loss: 0.9902 - department_output_layer_loss: 0.5692 - attrition_output_layer_loss: 0.4210 - department_output_layer_accuracy: 0.7831 - attrition_output_layer_accuracy: 0.8466 - val_loss: 1.0616 - val_department_output_layer_loss: 0.5706 - val_attrition_output_layer_loss: 0.4910 - val_department_output_layer_accuracy: 0.7717 - val_attrition_output_layer_accuracy: 0.8152\n",
            "Epoch 94/100\n",
            "35/35 [==============================] - 0s 5ms/step - loss: 0.9906 - department_output_layer_loss: 0.5688 - attrition_output_layer_loss: 0.4217 - department_output_layer_accuracy: 0.7831 - attrition_output_layer_accuracy: 0.8466 - val_loss: 1.0598 - val_department_output_layer_loss: 0.5691 - val_attrition_output_layer_loss: 0.4907 - val_department_output_layer_accuracy: 0.7717 - val_attrition_output_layer_accuracy: 0.8152\n",
            "Epoch 95/100\n",
            "35/35 [==============================] - 0s 6ms/step - loss: 0.9890 - department_output_layer_loss: 0.5684 - attrition_output_layer_loss: 0.4206 - department_output_layer_accuracy: 0.7831 - attrition_output_layer_accuracy: 0.8466 - val_loss: 1.0616 - val_department_output_layer_loss: 0.5704 - val_attrition_output_layer_loss: 0.4912 - val_department_output_layer_accuracy: 0.7717 - val_attrition_output_layer_accuracy: 0.8152\n",
            "Epoch 96/100\n",
            "35/35 [==============================] - 0s 5ms/step - loss: 0.9900 - department_output_layer_loss: 0.5690 - attrition_output_layer_loss: 0.4211 - department_output_layer_accuracy: 0.7831 - attrition_output_layer_accuracy: 0.8466 - val_loss: 1.0617 - val_department_output_layer_loss: 0.5699 - val_attrition_output_layer_loss: 0.4918 - val_department_output_layer_accuracy: 0.7717 - val_attrition_output_layer_accuracy: 0.8152\n",
            "Epoch 97/100\n",
            "35/35 [==============================] - 0s 5ms/step - loss: 0.9904 - department_output_layer_loss: 0.5696 - attrition_output_layer_loss: 0.4208 - department_output_layer_accuracy: 0.7831 - attrition_output_layer_accuracy: 0.8466 - val_loss: 1.0609 - val_department_output_layer_loss: 0.5693 - val_attrition_output_layer_loss: 0.4916 - val_department_output_layer_accuracy: 0.7717 - val_attrition_output_layer_accuracy: 0.8152\n",
            "Epoch 98/100\n",
            "35/35 [==============================] - 0s 4ms/step - loss: 0.9896 - department_output_layer_loss: 0.5686 - attrition_output_layer_loss: 0.4209 - department_output_layer_accuracy: 0.7831 - attrition_output_layer_accuracy: 0.8466 - val_loss: 1.0639 - val_department_output_layer_loss: 0.5722 - val_attrition_output_layer_loss: 0.4917 - val_department_output_layer_accuracy: 0.7717 - val_attrition_output_layer_accuracy: 0.8152\n",
            "Epoch 99/100\n",
            "35/35 [==============================] - 0s 5ms/step - loss: 0.9901 - department_output_layer_loss: 0.5693 - attrition_output_layer_loss: 0.4209 - department_output_layer_accuracy: 0.7831 - attrition_output_layer_accuracy: 0.8466 - val_loss: 1.0620 - val_department_output_layer_loss: 0.5692 - val_attrition_output_layer_loss: 0.4928 - val_department_output_layer_accuracy: 0.7717 - val_attrition_output_layer_accuracy: 0.8152\n",
            "Epoch 100/100\n",
            "35/35 [==============================] - 0s 5ms/step - loss: 0.9897 - department_output_layer_loss: 0.5689 - attrition_output_layer_loss: 0.4208 - department_output_layer_accuracy: 0.7831 - attrition_output_layer_accuracy: 0.8466 - val_loss: 1.0611 - val_department_output_layer_loss: 0.5702 - val_attrition_output_layer_loss: 0.4909 - val_department_output_layer_accuracy: 0.7717 - val_attrition_output_layer_accuracy: 0.8152\n"
          ]
        },
        {
          "output_type": "execute_result",
          "data": {
            "text/plain": [
              "<keras.src.callbacks.History at 0x7caae626add0>"
            ]
          },
          "metadata": {},
          "execution_count": 21
        }
      ],
      "source": [
        "# Train the model\n",
        "model.fit(\n",
        "    X_train_scaled,\n",
        "    {'department_output_layer': y_train_department_encoded, 'attrition_output_layer': y_train_attrition_encoded},\n",
        "    epochs=100,\n",
        "    shuffle=True,\n",
        "    validation_data=(X_test_scaled, {'department_output_layer': y_test_department_encoded, 'attrition_output_layer': y_test_attrition_encoded}),\n",
        "    verbose=1\n",
        ")\n"
      ]
    },
    {
      "cell_type": "code",
      "execution_count": null,
      "metadata": {
        "colab": {
          "base_uri": "https://localhost:8080/"
        },
        "id": "VsMoaQlgGc3U",
        "outputId": "f5520783-9739-4b83-ce11-1b8e4f992609"
      },
      "outputs": [
        {
          "output_type": "stream",
          "name": "stdout",
          "text": [
            "12/12 [==============================] - 0s 4ms/step - loss: 1.0611 - department_output_layer_loss: 0.5702 - attrition_output_layer_loss: 0.4909 - department_output_layer_accuracy: 0.7717 - attrition_output_layer_accuracy: 0.8152\n"
          ]
        }
      ],
      "source": [
        "# Evaluate the model with the testing data\n",
        "metrics = model.evaluate(X_test_scaled, {'department_output_layer': y_test_department_encoded, 'attrition_output_layer': y_test_attrition_encoded}, verbose=1)\n"
      ]
    },
    {
      "cell_type": "code",
      "execution_count": null,
      "metadata": {
        "colab": {
          "base_uri": "https://localhost:8080/"
        },
        "id": "ZlCtlHi0Vt54",
        "outputId": "82d2e3f1-ec59-412e-829d-3b62e8821246"
      },
      "outputs": [
        {
          "output_type": "stream",
          "name": "stdout",
          "text": [
            "Department : 0.77173912525177\n",
            "Attrition : 0.8152173757553101\n"
          ]
        }
      ],
      "source": [
        "# Print the accuracy for both department and attrition\n",
        "print(f\"Department : {metrics[3]}\")\n",
        "print(f\"Attrition : {metrics[4]}\")"
      ]
    },
    {
      "cell_type": "markdown",
      "metadata": {
        "id": "eGSyfsZfWOQM"
      },
      "source": [
        "# Summary\n",
        "\n",
        "In the provided space below, briefly answer the following questions.\n",
        "\n",
        "1. Is accuracy the best metric to use on this data? Why or why not?\n",
        "\n",
        "2. What activation functions did you choose for your output layers, and why?\n",
        "\n",
        "3. Can you name a few ways that this model might be improved?"
      ]
    },
    {
      "cell_type": "markdown",
      "metadata": {
        "id": "pi9SLpFnWvbF"
      },
      "source": [
        "YOUR ANSWERS HERE\n",
        "\n",
        "1.Accuracy is not the best when the data is imbalanced like in this exercise.\n",
        "\n",
        "2.Softmax was used for \"department\" being multiclass.\n",
        "Sigmoid was used for \"attrition\" being a binary class.\n",
        "\n",
        "3.Changing the number of epocs, increasing data, changing the amount of layers, try different optomizers, ect.\n"
      ]
    },
    {
      "cell_type": "markdown",
      "metadata": {
        "id": "hncLReJlZA44"
      },
      "source": []
    }
  ],
  "metadata": {
    "colab": {
      "provenance": [],
      "include_colab_link": true
    },
    "kernelspec": {
      "display_name": "Python 3",
      "language": "python",
      "name": "python3"
    },
    "language_info": {
      "codemirror_mode": {
        "name": "ipython",
        "version": 3
      },
      "file_extension": ".py",
      "mimetype": "text/x-python",
      "name": "python",
      "nbconvert_exporter": "python",
      "pygments_lexer": "ipython3",
      "version": "3.9.18"
    },
    "vscode": {
      "interpreter": {
        "hash": "31f2aee4e71d21fbe5cf8b01ff0e069b9275f58929596ceb00d14d90e3e16cd6"
      }
    }
  },
  "nbformat": 4,
  "nbformat_minor": 0
}